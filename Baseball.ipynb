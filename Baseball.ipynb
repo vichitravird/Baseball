{
 "cells": [
  {
   "cell_type": "code",
   "execution_count": 2,
   "id": "de67de36",
   "metadata": {},
   "outputs": [],
   "source": [
    "import numpy as np"
   ]
  },
  {
   "cell_type": "markdown",
   "id": "791d146e",
   "metadata": {},
   "source": [
    "### 1. Rescaling Data \n",
    "\n",
    "\n",
    "Consider our baseball player example. This time, we consider three variables: (1) height, (2) weight, and (3) salary. We consider 6 players with the corresponding information:\n",
    "\n",
    "- height (inches): [72,78,69,71,76,79]\n",
    "- weight (lbs): [180, 215, 210, 188, 176, 209]\n",
    "- salary (USD): [2200000, 2500000, 2700000, 6500000, 2600000, 3500000]\n",
    "\n",
    "\n",
    "Run the cell below to generate two lists. baseball_players stores the data, and features stores the feature names. "
   ]
  },
  {
   "cell_type": "code",
   "execution_count": 3,
   "id": "f1f2417c",
   "metadata": {},
   "outputs": [],
   "source": [
    "baseball_players = [[72,78,69,71,76,79], \n",
    "                    [180, 215, 210, 188, 176, 209], \n",
    "                    [2200000, 2500000, 2700000, 6500000, 2600000, 3500000]]\n",
    "features = ['height', 'weight', 'salary']"
   ]
  },
  {
   "cell_type": "markdown",
   "id": "1c8231f8",
   "metadata": {},
   "source": [
    "\n",
    "- Convert the 2d list to a 2d numpy array, the array's name is: baseball_players_arr.\n",
    "- Use a loop to create a dictionary, dict_baseball_players, where the keys are the variable names (i.e., elements from features), and content is the data under the corresponding feature name. \n",
    "    - Hint 1: Use dict_baseball_players = {} to create an empty dictionary before the loop.\n",
    "    - Hint 2: You can use either enumerate function, or your own counter for the loop.\n",
    "- (Discussion Question, Don't Code up Anything) Can you create a dictionary manually? Briefly discuss the advantage of using a loop if the variable number is large."
   ]
  },
  {
   "cell_type": "code",
   "execution_count": 4,
   "id": "e65a6683",
   "metadata": {},
   "outputs": [
    {
     "data": {
      "text/plain": [
       "array([[     72,      78,      69,      71,      76,      79],\n",
       "       [    180,     215,     210,     188,     176,     209],\n",
       "       [2200000, 2500000, 2700000, 6500000, 2600000, 3500000]])"
      ]
     },
     "execution_count": 4,
     "metadata": {},
     "output_type": "execute_result"
    }
   ],
   "source": [
    "# YOUR CODE HERE (convert 2d list to 2d numpy array)\n",
    "baseball_players_arr=np.array(baseball_players)\n",
    "baseball_players_arr\n"
   ]
  },
  {
   "cell_type": "code",
   "execution_count": null,
   "id": "2ea38374",
   "metadata": {},
   "outputs": [],
   "source": [
    "# \"Create a dictionary\" Hint: your output should be something like:\n",
    "'''\n",
    "{'height': [72, 78, 69, 71, 76, 79],\n",
    " 'weight': [180, 215, 210, 188, 176, 209],\n",
    " 'salary': [2200000, 2500000, 2700000, 6500000, 2600000, 3500000]}\n",
    "'''"
   ]
  },
  {
   "cell_type": "code",
   "execution_count": 13,
   "id": "f80d06c5",
   "metadata": {},
   "outputs": [
    {
     "name": "stdout",
     "output_type": "stream",
     "text": [
      "{'height': [72, 78, 69, 71, 76, 79], 'weight': [180, 215, 210, 188, 176, 209], 'salary': [2200000, 2500000, 2700000, 6500000, 2600000, 3500000]}\n"
     ]
    }
   ],
   "source": [
    "# YOUR CODE HERE (Use a loop to create dict_baseball_players dictionary)\n",
    "dict_baseball_players={}\n",
    "for i, v in enumerate(features):\n",
    "        dict_baseball_players[v]=baseball_players[i]\n",
    "print(dict_baseball_players)"
   ]
  },
  {
   "cell_type": "code",
   "execution_count": null,
   "id": "3d55175c",
   "metadata": {},
   "outputs": [],
   "source": [
    "# YOUR DISCUSSION HERE\n",
    "#Yes, we can create a dictionary manually using key and value pair.\n",
    "#Advantages of using loop are as follows\n",
    "\n",
    "#1)With the help of loops we can automate the repetitive tasks and hence save time to increase our efficiency.\n",
    "#2)When we are dealing with large datasets it is ideal to use a loop to automate the task in hand. This in turn reduces the manual labour hours.\n",
    "\n"
   ]
  },
  {
   "cell_type": "markdown",
   "id": "d38d03d0",
   "metadata": {},
   "source": [
    "### Scaling Data - Continued\n",
    "\n",
    "The range of values of raw data varies widely. For example, if the heights of baseball players \n",
    "are measured in inches, the values should be around 75. In the meantime, if we also have the\n",
    "annual income (measured in dollars) of each baseball player, the values are several millions. Yet,\n",
    "major statistical models compute the distance between two points (e.g. two baseball players) by\n",
    "the Euclidean distance. If one of the dimensions has a broad range of values, the distance will be\n",
    "governed by this particular dimension. Therefore, the range of all features should be scaled\n",
    "so that each dimension contributes approximately proportionately to the final distance."
   ]
  },
  {
   "cell_type": "markdown",
   "id": "3e1951e9",
   "metadata": {},
   "source": [
    "Rescaling data is a very important pre-processing step in many data analytics tasks.  To this end, this question asks you to scale a variable based on the following equation: \n",
    "\n",
    "$$x\\_scaled = \\frac{x-min(x)}{max(x) - min(x)}  $$\n",
    "\n",
    "This makes it so that each data point lies in the range [0,1].\n",
    "\n",
    "\n",
    "- Create a 1D numpy array, height, that stores the height information.\n",
    "- Scale height based on the equation above. Store the result as height_scaled. Print the result. *Hint: max and min can be obtained using np.max(x) and np.min(x), correspondingly.*"
   ]
  },
  {
   "cell_type": "code",
   "execution_count": 14,
   "id": "ad06a339",
   "metadata": {},
   "outputs": [
    {
     "name": "stdout",
     "output_type": "stream",
     "text": [
      "[72 78 69 71 76 79]\n"
     ]
    }
   ],
   "source": [
    "# YOUR CODE HERE (Create height)\n",
    "height=np.array([72, 78, 69, 71, 76, 79])\n",
    "print(height)"
   ]
  },
  {
   "cell_type": "code",
   "execution_count": 15,
   "id": "60779c8d",
   "metadata": {},
   "outputs": [
    {
     "name": "stdout",
     "output_type": "stream",
     "text": [
      "[0.3 0.9 0.  0.2 0.7 1. ]\n"
     ]
    }
   ],
   "source": [
    "# YOUR CODE HERE (Compute height_scaled, print it)\n",
    "height_scaled=[]\n",
    "min_height=np.min(height)\n",
    "max_height=np.max(height)\n",
    "height_scaled=(height-min_height)/(max_height-min_height)\n",
    "print(height_scaled)"
   ]
  },
  {
   "cell_type": "markdown",
   "id": "6f1799be",
   "metadata": {},
   "source": [
    "\n",
    "Usually we need to scale all the variables. Thus, it is more convenient to store the process as a function. \n",
    "- Create a function called scale. The function should take a 1D numpy array, and return a new 1D numpy array.\n",
    "    - The output should be the scaled result of the input (i.e., the same as Question 2).\n",
    "    - Note: In your code, you do not need to specifically check whether the input is a 1D numpy array or not.\n",
    "    \n",
    "- Create a new dictionary dict_baseball_players_scaled which is a scaled version of dict_baseball_players and print the result.\n",
    "    - Use each feature name as a key, with a numpy array containing the corresponding scaled values\n",
    "    - Use a loop and apply the function we wrote for the previous prompt.\n"
   ]
  },
  {
   "cell_type": "code",
   "execution_count": 17,
   "id": "1eb9f41e",
   "metadata": {},
   "outputs": [],
   "source": [
    "# YOUR CODE HERE (Define scale function)\n",
    "def scale(array):\n",
    "    min_arr = np.min(array)\n",
    "    max_arr = np.max(array)\n",
    "    arr_scaled = (array - min_arr) / (max_arr - min_arr)\n",
    "    return arr_scaled"
   ]
  },
  {
   "cell_type": "code",
   "execution_count": 19,
   "id": "ea72eafc",
   "metadata": {
    "scrolled": true
   },
   "outputs": [
    {
     "name": "stdout",
     "output_type": "stream",
     "text": [
      "{'height': array([0.3, 0.9, 0. , 0.2, 0.7, 1. ]), 'weight': array([0.1025641 , 1.        , 0.87179487, 0.30769231, 0.        ,\n",
      "       0.84615385]), 'salary': array([0.        , 0.06976744, 0.11627907, 1.        , 0.09302326,\n",
      "       0.30232558])}\n"
     ]
    }
   ],
   "source": [
    "# YOUR CODE HERE (Create dict_baseball_players_scaled)\n",
    "dict_baseball_players_scaled = {}\n",
    "for x, z in dict_baseball_players.items():\n",
    "    dict_baseball_players_scaled[x] = scale(z)\n",
    "print(dict_baseball_players_scaled)"
   ]
  },
  {
   "cell_type": "markdown",
   "id": "d64edcdb",
   "metadata": {},
   "source": [
    "### 2. Automating Task Assignment\n",
    "\n",
    "You have found yourself managing a new group at GenericDataScienceCo at a particularly busy time.  You have a backlog of tasks that need to be completed as soon as possible.  There are 4 employees in your group that you can assign these tasks to: Alice, Bob, Cheryl, and David.  Below we have code giving the information for the tasks and a list of your employee's names.\n",
    "\n",
    "Each task is a tuple, where the first entry of the tuple is a string corresponding to its name and the second entry of the tuple is a number, corresponding to how long the task takes to complete."
   ]
  },
  {
   "cell_type": "code",
   "execution_count": 2,
   "id": "c571ce04",
   "metadata": {},
   "outputs": [],
   "source": [
    "# Run this code to make these variables available\n",
    "tasks = [(\"Task1\", 10), (\"Task2\", 4), (\"Task3\", 3), (\"Task4\", 27), (\"Task5\", 14), (\"Task6\", 5), \n",
    "         (\"Task7\", 4), (\"Task8\", 25), (\"Task9\", 19), (\"Task10\", 40), (\"Task11\", 3), (\"Task12\", 27)]\n",
    "employees = [\"Alice\", \"Bob\", \"Cheryl\", \"Daniel\"]"
   ]
  },
  {
   "cell_type": "markdown",
   "id": "cfc12bc5",
   "metadata": {},
   "source": [
    "Your goal is to assign each task to a single employee, with the goal of completing all of the tasks as soon as possible (assuming that each employee works on their tasks in parallel and with no interruptions).  \n",
    "\n",
    "After thinking about it for a bit, you came up with the following greedy heuristic which might work well: Iterate over each task and assign it to the employee who currently has the *least* amount of work (breaking ties arbitrarily).  We want to implement a function called simple_assignment which realizes this heuristic.  We will do this over a few steps in order to create a clean implementation."
   ]
  },
  {
   "cell_type": "markdown",
   "id": "c8923dba",
   "metadata": {},
   "source": [
    "\n",
    "\n",
    "We will use a dictionary to represent the assignment of tasks to workers.  Below I've given an example."
   ]
  },
  {
   "cell_type": "code",
   "execution_count": 3,
   "id": "c62c3b42",
   "metadata": {},
   "outputs": [],
   "source": [
    "# Run the following code to make this variable available\n",
    "example_assignment = {'Alice': [(\"Task1\", 10), (\"Task2\", 4), (\"Task3\", 3)],\n",
    "                      'Bob': [(\"Task4\", 27), (\"Task5\", 14), (\"Task6\", 5)],\n",
    "                      'Cheryl': [(\"Task7\", 4), (\"Task8\", 25), (\"Task9\", 19)],\n",
    "                      'Daniel': [(\"Task10\", 40), (\"Task11\", 3), (\"Task12\", 27)]}"
   ]
  },
  {
   "cell_type": "markdown",
   "id": "10ad106a",
   "metadata": {},
   "source": [
    "Given an assignment we would like to keep track of each employees workload (the total amount of time needed for tasks assigned to them), and the total time needed to finish all of the tasks (the largest workload of any employee).\n",
    "\n",
    "- Complete the function below, compute_workloads, which takes an assignment dictionary as input and should output a dictionary containing the workload of each employee.\n",
    "    - The output of the function should be a dictionary workloads with the employee names as keys.\n",
    "    - workloads[employee] should store the total time for all of the tasks assigned to employee.\n",
    "    - e.g. workloads['Alice'] = 17\n",
    "- Apply the function to example_assignment below and print out the time needed to finish all of the tasks under this assignment (the largest workload)."
   ]
  },
  {
   "cell_type": "code",
   "execution_count": 4,
   "id": "779df77f",
   "metadata": {},
   "outputs": [
    {
     "name": "stdout",
     "output_type": "stream",
     "text": [
      "{'Alice': 17, 'Bob': 46, 'Cheryl': 48, 'Daniel': 70}\n",
      "('Maximum Workload is:', 70)\n"
     ]
    }
   ],
   "source": [
    "def compute_workloads(assignment):\n",
    "    # YOUR CODE HERE\n",
    "    #Computing the total workload of the respective employees\n",
    "    workloads={}\n",
    "    for employee, tasks in assignment.items():\n",
    "        workloads[employee]=sum(task[1] for task in tasks)\n",
    "    return workloads\n",
    "\n",
    "# YOUR CODE HERE (Print out time needed to finish all tasks)   \n",
    "example_workloads = compute_workloads(example_assignment)\n",
    "print(example_workloads)\n",
    "#Calculating the maximum workload\n",
    "max_workload=max(example_workloads.values())\n",
    "print((\"Maximum Workload is:\", max_workload))\n"
   ]
  },
  {
   "cell_type": "markdown",
   "id": "0f351f00",
   "metadata": {},
   "source": [
    "\n",
    "Below we have defined three functions which together will implement our assignment heuristic.  The first two functions below, initialize_assignment and assign_task are currently undefined, and it is your job to finish these.  The last function, greedy_assignment, is given and puts together the previous two functions to implement our heuristic.\n",
    "\n",
    "- Complete the function initialize assignment\n",
    "    - This function should output two dictionaries (assignment and workloads) whose keys are the employee names\n",
    "    - assignment[employee] should be the empty list for each employee\n",
    "    - workloads[employee] should be 0 for each employee\n",
    "    \n",
    "- Complete the function assign_task\n",
    "    - This function takes two dictionaries (assignment and workloads) and a tuple (task) as input.  \n",
    "    - The function should modify assignment and workloads so that an employee with the smallest workload gets the task added to their list and their workload is updated to account for the new task\n",
    "    - Example - Suppose that:\n",
    "        - assignment = {'Alice': [(\"Task1\", 10)], 'Bob': [(\"Task4\", 27)], 'Cheryl': [(\"Task7\", 4)], 'Daniel': [(\"Task10\", 40)]}\n",
    "        - workloads = {'Alice': 10, 'Bob': 27, 'Cheryl': 4, 'Daniel': 40]}\n",
    "        - task = (\"Task2\", 4).  \n",
    "    - Then after executing assign_task(assignment, workloads, task) we should have:\n",
    "        - assignment == {'Alice': [(\"Task1\", 10)], 'Bob': [(\"Task4\", 27)], 'Cheryl': [(\"Task7\", 4), (\"Task2\", 4)], 'Daniel': [(\"Task10\", 40)]}\n",
    "        - workloads == {'Alice': 10, 'Bob': 27, 'Cheryl': 8, 'Daniel': 40]}"
   ]
  },
  {
   "cell_type": "code",
   "execution_count": 5,
   "id": "7e6958c1",
   "metadata": {},
   "outputs": [],
   "source": [
    "def initialize_assignment(employees):\n",
    "    assignment={employee: [] for employee in employees}\n",
    "    workloads={employee: 0 for employee in employees}\n",
    "    return assignment, workloads\n"
   ]
  },
  {
   "cell_type": "code",
   "execution_count": 6,
   "id": "993f5ac1",
   "metadata": {},
   "outputs": [],
   "source": [
    "def assign_task(assignment, workloads, task):\n",
    "    employee_min_workload=min(workloads, key=workloads.get)\n",
    "    assignment[employee_min_workload].append(task)\n",
    "    workloads[employee_min_workload]+=task[1]\n"
   ]
  },
  {
   "cell_type": "code",
   "execution_count": 7,
   "id": "168c000c",
   "metadata": {},
   "outputs": [],
   "source": [
    "# The code below shows how we put together the two functions above.\n",
    "def greedy_assignment(tasks, employees):\n",
    "    # initialize assignment and workload dictionaries\n",
    "    assignment, workloads = initialize_assignment(employees)\n",
    "        \n",
    "    # Iterate over each task to assign it\n",
    "    for task in tasks:\n",
    "        assign_task(assignment, workloads, task)\n",
    "        \n",
    "    return assignment, workloads\n",
    "\n",
    "assignment, workloads = greedy_assignment(tasks, employees)"
   ]
  },
  {
   "cell_type": "markdown",
   "id": "c6aa9441",
   "metadata": {},
   "source": [
    "\n",
    "Finally let's write a function to cleanly output the results and apply this function to the result of our greedy_assignment function.  Is this the best possible way to assign the tasks to the employees?\n",
    "\n",
    "- Complete the function print_assignment below.  Each employees task list should be displayed on a separate line.  Next, print out the assignment length (time needed to finish all tasks) on a separate line.\n",
    "- (Discussion question, no code necessary)  Is this assignment the best assignment (with respect to the amount of time it needs to finish)?  If not, how might we find a better (or even the best) assignment?\n",
    "\n"
   ]
  },
  {
   "cell_type": "code",
   "execution_count": 8,
   "id": "22e4a6e9",
   "metadata": {},
   "outputs": [
    {
     "name": "stdout",
     "output_type": "stream",
     "text": [
      "Alice : [('Task1', 10), ('Task8', 25)]\n",
      "Bob : [('Task2', 4), ('Task6', 5), ('Task7', 4), ('Task9', 19)]\n",
      "Cheryl : [('Task3', 3), ('Task5', 14), ('Task10', 40)]\n",
      "Daniel : [('Task4', 27), ('Task11', 3), ('Task12', 27)]\n",
      "Time needed to finish all the tasks is: 181\n"
     ]
    }
   ],
   "source": [
    "def print_assignment(assignment, workloads):\n",
    "    # YOUR CODE HERE\n",
    "    for employee, tasks in assignment.items():\n",
    "        print(employee, \":\", tasks)\n",
    "        total_time=sum(workloads.values())\n",
    "    assignment_length=sum(workloads.values())\n",
    "    print(\"Time needed to finish all the tasks is:\", assignment_length)\n",
    "    \n",
    "print_assignment(assignment, workloads)"
   ]
  },
  {
   "cell_type": "code",
   "execution_count": 1,
   "id": "4c33a04f",
   "metadata": {},
   "outputs": [],
   "source": [
    "# YOUR DISCUSSION HERE \n",
    "\n",
    "#The greedy assignment algorithm is used when speed is priority as it is fast and suboptimal method.\n",
    "#Apart from the Greedy Assignment Algorithm The Hungarian algorithm provides the optimal solution but it is comparatively slower. \n",
    "#Other Assignment algorithms include Network flow algorithms and integer programming and they provide exact solutions but are much slower. \n",
    "#To summarise we can say that the choice of algorithm depends on the specific job requirements of the problem and quality of solution and computational time."
   ]
  },
  {
   "cell_type": "code",
   "execution_count": null,
   "id": "d8a100a8",
   "metadata": {},
   "outputs": [],
   "source": []
  }
 ],
 "metadata": {
  "kernelspec": {
   "display_name": "Python 3 (ipykernel)",
   "language": "python",
   "name": "python3"
  },
  "language_info": {
   "codemirror_mode": {
    "name": "ipython",
    "version": 3
   },
   "file_extension": ".py",
   "mimetype": "text/x-python",
   "name": "python",
   "nbconvert_exporter": "python",
   "pygments_lexer": "ipython3",
   "version": "3.9.12"
  }
 },
 "nbformat": 4,
 "nbformat_minor": 5
}
